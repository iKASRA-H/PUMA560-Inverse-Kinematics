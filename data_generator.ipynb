{
 "cells": [
  {
   "cell_type": "code",
   "execution_count": 1,
   "id": "3c0e201e",
   "metadata": {
    "scrolled": true
   },
   "outputs": [],
   "source": [
    "import numpy as np\n",
    "from sympy import symbols, sin, cos, Matrix\n",
    "import pandas as pd\n",
    "\n",
    "# Define symbolic variables for joint angles\n",
    "q1, q2, q3, q4, q5, q6 = symbols('q1 q2 q3 q4 q5 q6')\n",
    "\n",
    "# Define DH parameters for the Puma 560 robot\n",
    "dh_params = [\n",
    "    (0, 0, 0.67, q1),\n",
    "    (-90, 0.43, 0, q2),\n",
    "    (90, 0.2, 0, q3),\n",
    "    (-90, 0, 0.63, q4),\n",
    "    (90, 0, 0, q5),\n",
    "    (0, 0, 0.1, q6)\n",
    "]\n",
    "\n",
    "# Define transformation matrices for each joint\n",
    "def dh_matrix(alpha, a, d, theta):\n",
    "    return Matrix([\n",
    "        [cos(theta), -sin(theta) * cos(alpha), sin(theta) * sin(alpha), a * cos(theta)],\n",
    "        [sin(theta), cos(theta) * cos(alpha), -cos(theta) * sin(alpha), a * sin(theta)],\n",
    "        [0, sin(alpha), cos(alpha), d],\n",
    "        [0, 0, 0, 1]\n",
    "    ])\n",
    "\n"
   ]
  },
  {
   "cell_type": "code",
   "execution_count": 2,
   "id": "e00163fe",
   "metadata": {},
   "outputs": [],
   "source": [
    "\n",
    "# Define a function to calculate the end-effector pose\n",
    "def calculate_end_effector_pose(q_values):\n",
    "    T = Matrix.eye(4)\n",
    "    for (alpha, a, d, theta), q in zip(dh_params, q_values):\n",
    "        T = T * dh_matrix(np.radians(alpha), a, d, q)\n",
    "    end_effector_position = T[:3, 3]\n",
    "    end_effector_orientation = T[:3, :3]\n",
    "    return end_effector_position, end_effector_orientation\n",
    "\n",
    "# Function to generate random joint angles\n",
    "def generate_random_joint_angles():\n",
    "    return np.random.uniform(-np.pi, np.pi, 6)"
   ]
  },
  {
   "cell_type": "code",
   "execution_count": 3,
   "id": "fe99c617",
   "metadata": {},
   "outputs": [
    {
     "name": "stdout",
     "output_type": "stream",
     "text": [
      "Progress: 100/1000 samples saved\n",
      "Progress: 200/1000 samples saved\n",
      "Progress: 300/1000 samples saved\n",
      "Progress: 400/1000 samples saved\n",
      "Progress: 500/1000 samples saved\n",
      "Progress: 600/1000 samples saved\n",
      "Progress: 700/1000 samples saved\n",
      "Progress: 800/1000 samples saved\n",
      "Progress: 900/1000 samples saved\n",
      "Progress: 1000/1000 samples saved\n",
      "1000 samples saved to 'puma560_forward_kinematics_data_1000.csv'\n"
     ]
    }
   ],
   "source": [
    "\n",
    "\n",
    "# Generate random joint angles and calculate end-effector poses\n",
    "num_samples = 1000\n",
    "data = []\n",
    "\n",
    "for _ in range(num_samples):\n",
    "    random_joint_angles = generate_random_joint_angles()\n",
    "    end_effector_position, end_effector_orientation = calculate_end_effector_pose(random_joint_angles)\n",
    "\n",
    "    # Convert SymPy matrices to NumPy arrays\n",
    "    end_effector_position = np.array(end_effector_position).flatten()\n",
    "    end_effector_orientation = np.array(end_effector_orientation).flatten()\n",
    "\n",
    "    data.append(np.concatenate([random_joint_angles, end_effector_position, end_effector_orientation]))\n",
    "    \n",
    "    if (_ + 1) % 100 == 0:\n",
    "        print(f\"Progress: {_ + 1}/{num_samples} samples saved\")\n",
    "    \n",
    "# Create a Pandas DataFrame from the collected data\n",
    "column_names = ['q1', 'q2', 'q3', 'q4', 'q5', 'q6', 'X', 'Y', 'Z', 'R11', 'R12', 'R13', 'R21', 'R22', 'R23', 'R31', 'R32', 'R33']\n",
    "df = pd.DataFrame(data, columns=column_names)\n",
    "\n",
    "# Save the DataFrame to a CSV file\n",
    "df.to_csv('puma560_forward_kinematics_data_1000.csv', index=False)\n",
    "\n",
    "print(f\"{num_samples} samples saved to 'puma560_forward_kinematics_data_1000.csv'\")"
   ]
  }
 ],
 "metadata": {
  "kernelspec": {
   "display_name": "Python 3 (ipykernel)",
   "language": "python",
   "name": "python3"
  },
  "language_info": {
   "codemirror_mode": {
    "name": "ipython",
    "version": 3
   },
   "file_extension": ".py",
   "mimetype": "text/x-python",
   "name": "python",
   "nbconvert_exporter": "python",
   "pygments_lexer": "ipython3",
   "version": "3.9.12"
  }
 },
 "nbformat": 4,
 "nbformat_minor": 5
}
